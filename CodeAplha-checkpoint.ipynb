{
 "cells": [
  {
   "cell_type": "markdown",
   "id": "eb28078d",
   "metadata": {},
   "source": [
    "# Language Translation Tool\n",
    "\n",
    "## Project Description\n",
    "A simple and interactive language translation tool developed in Python using the **Google Translate API**. The tool allows users to translate text between multiple languages such as Hindi, Spanish, French, Japanese, and English. It uses a graphical user interface (GUI) built with **Tkinter** to make the user experience more engaging and intuitive.\n",
    "\n",
    "### Key Features:\n",
    "- Translate text between multiple languages.\n",
    "- Supports languages like Hindi, Spanish, French, Japanese, and English.\n",
    "- Easy-to-use GUI for quick translation.\n",
    "- Option to select source and target languages from a dropdown.\n",
    "- Real-time translation with the click of a button.\n",
    "\n",
    "## Installation\n",
    "\n",
    "### Requirements:\n",
    "- Python 3.x\n",
    "- `googletrans` library\n",
    "- `tkinter` (usually pre-installed with Python)\n",
    "\n",
    "### Steps to Set Up:\n",
    "\n",
    "1. **Install Python Libraries**:\n",
    "   To install the required libraries, run the following command:\n",
    "   ```bash\n",
    "   pip install googletrans==4.0.0-rc1"
   ]
  },
  {
   "cell_type": "markdown",
   "id": "421af2f6",
   "metadata": {},
   "source": [
    "# Using the Tool:\n",
    "\n",
    "Open the application.\n",
    "Select the source and target languages from the dropdown.\n",
    "Enter the text you wish to translate.\n",
    "Click \"Translate\" to see the translated text.\n",
    "\n",
    "Languages Supported:\n",
    "\n",
    "English (en)\n",
    "Hindi (hi)\n",
    "Spanish (es)\n",
    "French (fr)\n",
    "Japanese (ja)\n",
    "\n",
    "The tool uses the googletrans library to translate the input text and tkinter to create a graphical user interface. Here's a brief overview of the main components of the code:\n",
    "\n",
    "googletrans.Translator: Handles the translation between languages.\n",
    "Tkinter GUI: Displays the interface, including labels, dropdown menus, and a text input box."
   ]
  },
  {
   "cell_type": "code",
   "execution_count": 1,
   "id": "d4ca5a8c",
   "metadata": {
    "scrolled": true
   },
   "outputs": [
    {
     "name": "stdout",
     "output_type": "stream",
     "text": [
      "Requirement already satisfied: googletrans==4.0.0-rc1 in c:\\users\\dhira\\anaconda3\\lib\\site-packages (4.0.0rc1)\n",
      "Requirement already satisfied: httpx==0.13.3 in c:\\users\\dhira\\anaconda3\\lib\\site-packages (from googletrans==4.0.0-rc1) (0.13.3)\n",
      "Requirement already satisfied: certifi in c:\\users\\dhira\\anaconda3\\lib\\site-packages (from httpx==0.13.3->googletrans==4.0.0-rc1) (2022.9.14)\n",
      "Requirement already satisfied: hstspreload in c:\\users\\dhira\\anaconda3\\lib\\site-packages (from httpx==0.13.3->googletrans==4.0.0-rc1) (2024.11.1)\n",
      "Requirement already satisfied: sniffio in c:\\users\\dhira\\anaconda3\\lib\\site-packages (from httpx==0.13.3->googletrans==4.0.0-rc1) (1.2.0)\n",
      "Requirement already satisfied: chardet==3.* in c:\\users\\dhira\\anaconda3\\lib\\site-packages (from httpx==0.13.3->googletrans==4.0.0-rc1) (3.0.4)\n",
      "Requirement already satisfied: idna==2.* in c:\\users\\dhira\\anaconda3\\lib\\site-packages (from httpx==0.13.3->googletrans==4.0.0-rc1) (2.10)\n",
      "Requirement already satisfied: rfc3986<2,>=1.3 in c:\\users\\dhira\\anaconda3\\lib\\site-packages (from httpx==0.13.3->googletrans==4.0.0-rc1) (1.5.0)\n",
      "Requirement already satisfied: httpcore==0.9.* in c:\\users\\dhira\\anaconda3\\lib\\site-packages (from httpx==0.13.3->googletrans==4.0.0-rc1) (0.9.1)\n",
      "Requirement already satisfied: h11<0.10,>=0.8 in c:\\users\\dhira\\anaconda3\\lib\\site-packages (from httpcore==0.9.*->httpx==0.13.3->googletrans==4.0.0-rc1) (0.9.0)\n",
      "Requirement already satisfied: h2==3.* in c:\\users\\dhira\\anaconda3\\lib\\site-packages (from httpcore==0.9.*->httpx==0.13.3->googletrans==4.0.0-rc1) (3.2.0)\n",
      "Requirement already satisfied: hyperframe<6,>=5.2.0 in c:\\users\\dhira\\anaconda3\\lib\\site-packages (from h2==3.*->httpcore==0.9.*->httpx==0.13.3->googletrans==4.0.0-rc1) (5.2.0)\n",
      "Requirement already satisfied: hpack<4,>=3.0 in c:\\users\\dhira\\anaconda3\\lib\\site-packages (from h2==3.*->httpcore==0.9.*->httpx==0.13.3->googletrans==4.0.0-rc1) (3.0.0)\n",
      "Note: you may need to restart the kernel to use updated packages.\n"
     ]
    },
    {
     "name": "stderr",
     "output_type": "stream",
     "text": [
      "\n",
      "[notice] A new release of pip is available: 23.2.1 -> 24.3.1\n",
      "[notice] To update, run: python.exe -m pip install --upgrade pip\n"
     ]
    }
   ],
   "source": [
    "pip install googletrans==4.0.0-rc1"
   ]
  },
  {
   "cell_type": "code",
   "execution_count": 5,
   "id": "2b5c1b1b",
   "metadata": {},
   "outputs": [],
   "source": [
    "import tkinter as tk\n",
    "from tkinter import ttk\n",
    "from googletrans import Translator\n",
    "\n",
    "# Initialize the Translator\n",
    "translator = Translator()\n",
    "\n",
    "# Supported languages\n",
    "languages = {\n",
    "    'hi': 'Hindi',\n",
    "    'es': 'Spanish',\n",
    "    'fr': 'French',\n",
    "    'ja': 'Japanese',\n",
    "    'en': 'English'\n",
    "}\n",
    "\n",
    "# Function to translate text\n",
    "def translate_text():\n",
    "    # Get the selected languages and text\n",
    "    src_lang = src_lang_combobox.get()\n",
    "    dest_lang = dest_lang_combobox.get()\n",
    "    text = text_input.get(\"1.0\", \"end-1c\")  # Get text from the text box\n",
    "    \n",
    "    if not text.strip():\n",
    "        result_label.config(text=\"Please enter some text to translate.\", fg=\"red\")\n",
    "        return\n",
    "    \n",
    "    try:\n",
    "        # Translate the text\n",
    "        translated = translator.translate(text, src=src_lang, dest=dest_lang)\n",
    "        result_label.config(text=f\"Translated Text ({languages[dest_lang]}):\\n{translated.text}\", fg=\"green\")\n",
    "    except Exception as e:\n",
    "        result_label.config(text=\"Error occurred during translation. Please check inputs.\", fg=\"red\")\n",
    "\n",
    "# Create main window\n",
    "root = tk.Tk()\n",
    "root.title(\"Language Translation Tool\")\n",
    "\n",
    "# Set window size\n",
    "root.geometry(\"600x400\")\n",
    "\n",
    "# Add source language label and combobox\n",
    "src_lang_label = tk.Label(root, text=\"Select Source Language:\")\n",
    "src_lang_label.pack(pady=5)\n",
    "src_lang_combobox = ttk.Combobox(root, values=list(languages.keys()))\n",
    "src_lang_combobox.set(\"en\")  # Set default to English\n",
    "src_lang_combobox.pack(pady=5)\n",
    "\n",
    "# Add destination language label and combobox\n",
    "dest_lang_label = tk.Label(root, text=\"Select Target Language:\")\n",
    "dest_lang_label.pack(pady=5)\n",
    "dest_lang_combobox = ttk.Combobox(root, values=list(languages.keys()))\n",
    "dest_lang_combobox.set(\"hi\")  # Set default to Hindi\n",
    "dest_lang_combobox.pack(pady=5)\n",
    "\n",
    "# Add text input label and text box\n",
    "text_input_label = tk.Label(root, text=\"Enter text to translate:\")\n",
    "text_input_label.pack(pady=5)\n",
    "text_input = tk.Text(root, height=5, width=50)\n",
    "text_input.pack(pady=5)\n",
    "\n",
    "# Add translate button\n",
    "translate_button = tk.Button(root, text=\"Translate\", command=translate_text)\n",
    "translate_button.pack(pady=10)\n",
    "\n",
    "# Add result label to display the translation\n",
    "result_label = tk.Label(root, text=\"\", wraplength=500, justify=\"left\")\n",
    "result_label.pack(pady=10)\n",
    "\n",
    "# Run the GUI\n",
    "root.mainloop()"
   ]
  },
  {
   "cell_type": "code",
   "execution_count": null,
   "id": "ec16a931",
   "metadata": {},
   "outputs": [],
   "source": []
  }
 ],
 "metadata": {
  "kernelspec": {
   "display_name": "Python 3 (ipykernel)",
   "language": "python",
   "name": "python3"
  },
  "language_info": {
   "codemirror_mode": {
    "name": "ipython",
    "version": 3
   },
   "file_extension": ".py",
   "mimetype": "text/x-python",
   "name": "python",
   "nbconvert_exporter": "python",
   "pygments_lexer": "ipython3",
   "version": "3.9.13"
  }
 },
 "nbformat": 4,
 "nbformat_minor": 5
}
